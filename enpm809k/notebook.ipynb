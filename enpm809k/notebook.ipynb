{
 "cells": [
  {
   "cell_type": "code",
   "execution_count": null,
   "metadata": {},
   "outputs": [],
   "source": [
    "# Top level configuration options\n",
    "ALLOW_ALL = False\n",
    "ALLOWED_CATEGORIES = [\"bicycling\", \"running\", \"sports\", \"transportation\", \"walking\"]"
   ]
  },
  {
   "cell_type": "code",
   "execution_count": null,
   "metadata": {},
   "outputs": [],
   "source": [
    "from json import loads\n",
    "import numpy as np\n",
    "from pathlib import Path\n",
    "\n",
    "p = (Path(__file__) / \"../../pose_data/annotations.json\").resolve()\n",
    "\n",
    "# Load the annotation data\n",
    "with open(p) as fr:\n",
    "    json_str = fr.read()\n",
    "annotations = loads(json_str)\n",
    "\n",
    "# Parse out the categories we care about\n",
    "\n",
    "valid_imgs = []\n",
    "for idx, act in enumerate(annotations[\"act\"]):\n",
    "    if ALLOW_ALL or act[\"cat_name\"] in ALLOWED_CATEGORIES:\n",
    "        valid_imgs.append(idx)\n",
    "\n",
    "# Split the data into train and test\n",
    "TEST_PERCENT = 0.1\n",
    "n_test = int(np.floor(len(valid_imgs) * TEST_PERCENT))\n",
    "\n",
    "np.random.shuffle(valid_imgs)  # TODO: Fix random seed for reproducibility\n",
    "test, train = valid_imgs[:n_test], valid_imgs[n_test:]\n",
    "\n",
    "print(\n",
    "    f\"Total dataset size: {len(valid_imgs)}, training with: {len(train)}, testing with: {len(test)}\"\n",
    ")"
   ]
  }
 ],
 "metadata": {
  "kernelspec": {
   "display_name": "Python 3.12.0a2 64-bit",
   "language": "python",
   "name": "python3"
  },
  "language_info": {
   "name": "python",
   "version": "3.12.0"
  },
  "orig_nbformat": 4,
  "vscode": {
   "interpreter": {
    "hash": "492296134a9031b2f24c09e2aa88a4d7236eebc00219e88e661780a0d804aefa"
   }
  }
 },
 "nbformat": 4,
 "nbformat_minor": 2
}
