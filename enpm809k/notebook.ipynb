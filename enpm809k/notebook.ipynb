{
 "cells": [
  {
   "cell_type": "code",
   "execution_count": 1,
   "metadata": {},
   "outputs": [],
   "source": [
    "# Top level configuration options\n",
    "ALLOW_ALL = False\n",
    "ALLOWED_CATEGORIES = [\"bicycling\", \"running\", \"sports\", \"transportation\", \"walking\"]"
   ]
  },
  {
   "cell_type": "code",
   "execution_count": 11,
   "metadata": {},
   "outputs": [
    {
     "ename": "FileNotFoundError",
     "evalue": "[Errno 2] No such file or directory: 'C:\\\\Users\\\\jdobry\\\\repos\\\\pose_data\\\\annotations.json'",
     "output_type": "error",
     "traceback": [
      "\u001b[1;31m---------------------------------------------------------------------------\u001b[0m",
      "\u001b[1;31mFileNotFoundError\u001b[0m                         Traceback (most recent call last)",
      "Cell \u001b[1;32mIn[11], line 8\u001b[0m\n\u001b[0;32m      5\u001b[0m p \u001b[39m=\u001b[39m (Path()\u001b[39m.\u001b[39mresolve() \u001b[39m/\u001b[39m \u001b[39m\"\u001b[39m\u001b[39m../../pose_data/annotations.json\u001b[39m\u001b[39m\"\u001b[39m)\u001b[39m.\u001b[39mresolve()\n\u001b[0;32m      7\u001b[0m \u001b[39m# Load the annotation data\u001b[39;00m\n\u001b[1;32m----> 8\u001b[0m annotations \u001b[39m=\u001b[39m load(p\u001b[39m.\u001b[39;49mopen())\n\u001b[0;32m     10\u001b[0m \u001b[39m# Parse out the categories we care about\u001b[39;00m\n\u001b[0;32m     12\u001b[0m valid_imgs \u001b[39m=\u001b[39m []\n",
      "File \u001b[1;32m~\\AppData\\Local\\Programs\\Python\\Python310\\lib\\pathlib.py:1119\u001b[0m, in \u001b[0;36mPath.open\u001b[1;34m(self, mode, buffering, encoding, errors, newline)\u001b[0m\n\u001b[0;32m   1117\u001b[0m \u001b[39mif\u001b[39;00m \u001b[39m\"\u001b[39m\u001b[39mb\u001b[39m\u001b[39m\"\u001b[39m \u001b[39mnot\u001b[39;00m \u001b[39min\u001b[39;00m mode:\n\u001b[0;32m   1118\u001b[0m     encoding \u001b[39m=\u001b[39m io\u001b[39m.\u001b[39mtext_encoding(encoding)\n\u001b[1;32m-> 1119\u001b[0m \u001b[39mreturn\u001b[39;00m \u001b[39mself\u001b[39;49m\u001b[39m.\u001b[39;49m_accessor\u001b[39m.\u001b[39;49mopen(\u001b[39mself\u001b[39;49m, mode, buffering, encoding, errors,\n\u001b[0;32m   1120\u001b[0m                            newline)\n",
      "\u001b[1;31mFileNotFoundError\u001b[0m: [Errno 2] No such file or directory: 'C:\\\\Users\\\\jdobry\\\\repos\\\\pose_data\\\\annotations.json'"
     ]
    }
   ],
   "source": [
    "from json import load\n",
    "import numpy as np\n",
    "from pathlib import Path\n",
    "\n",
    "p = (Path().resolve() / \"../pose_data/annotations.json\").resolve()\n",
    "\n",
    "# Load the annotation data\n",
    "annotations = load(p.open())\n",
    "\n",
    "# Parse out the categories we care about\n",
    "\n",
    "valid_imgs = []\n",
    "for idx, act in enumerate(annotations[\"act\"]):\n",
    "    if ALLOW_ALL or act[\"cat_name\"] in ALLOWED_CATEGORIES:\n",
    "        valid_imgs.append(idx)\n",
    "\n",
    "# Split the data into train and test\n",
    "TEST_PERCENT = 0.1\n",
    "n_test = int(np.floor(len(valid_imgs) * TEST_PERCENT))\n",
    "\n",
    "np.random.shuffle(valid_imgs)  # TODO: Fix random seed for reproducibility\n",
    "test, train = valid_imgs[:n_test], valid_imgs[n_test:]\n",
    "\n",
    "print(\n",
    "    f\"Total dataset size: {len(valid_imgs)}, training with: {len(train)}, testing with: {len(test)}\"\n",
    ")"
   ]
  }
 ],
 "metadata": {
  "kernelspec": {
   "display_name": "enpm809k-DO_ifH1O-py3.10",
   "language": "python",
   "name": "python3"
  },
  "language_info": {
   "codemirror_mode": {
    "name": "ipython",
    "version": 3
   },
   "file_extension": ".py",
   "mimetype": "text/x-python",
   "name": "python",
   "nbconvert_exporter": "python",
   "pygments_lexer": "ipython3",
   "version": "3.10.8"
  },
  "orig_nbformat": 4,
  "vscode": {
   "interpreter": {
    "hash": "46850df5f410fbc991fe4658b325348935d631532a1eaf60175ede8751ec4eaf"
   }
  }
 },
 "nbformat": 4,
 "nbformat_minor": 2
}
