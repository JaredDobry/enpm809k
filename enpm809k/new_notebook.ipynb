{
 "cells": [
  {
   "cell_type": "code",
   "execution_count": 2,
   "metadata": {},
   "outputs": [
    {
     "name": "stdout",
     "output_type": "stream",
     "text": [
      "Num GPUs Available:  1\n",
      "[PhysicalDevice(name='/physical_device:GPU:0', device_type='GPU')]\n"
     ]
    },
    {
     "name": "stderr",
     "output_type": "stream",
     "text": [
      "2022-12-12 14:42:43.910662: I tensorflow/compiler/xla/stream_executor/cuda/cuda_gpu_executor.cc:981] successful NUMA node read from SysFS had negative value (-1), but there must be at least one NUMA node, so returning NUMA node zero\n",
      "2022-12-12 14:42:43.938592: I tensorflow/compiler/xla/stream_executor/cuda/cuda_gpu_executor.cc:981] successful NUMA node read from SysFS had negative value (-1), but there must be at least one NUMA node, so returning NUMA node zero\n",
      "2022-12-12 14:42:43.938735: I tensorflow/compiler/xla/stream_executor/cuda/cuda_gpu_executor.cc:981] successful NUMA node read from SysFS had negative value (-1), but there must be at least one NUMA node, so returning NUMA node zero\n"
     ]
    }
   ],
   "source": [
    "# See if we have GPU access\n",
    "import tensorflow as tf\n",
    "print(\"Num GPUs Available: \", len(tf.config.list_physical_devices('GPU')))\n",
    "print(tf.config.list_physical_devices('GPU'))"
   ]
  },
  {
   "cell_type": "code",
   "execution_count": 3,
   "metadata": {},
   "outputs": [],
   "source": [
    "# Optionally set debugging\n",
    "# tf.debugging.set_log_device_placement(True)\n",
    "# tf.debugging.set_log_device_placement(False)"
   ]
  },
  {
   "cell_type": "code",
   "execution_count": 4,
   "metadata": {},
   "outputs": [],
   "source": [
    "# Load the annotation data\n",
    "from json import load\n",
    "from pathlib import Path\n",
    "\n",
    "p = (Path().resolve() / \"../pose_data/annotations.json\").resolve()\n",
    "annotations = load(p.open())"
   ]
  },
  {
   "cell_type": "code",
   "execution_count": 5,
   "metadata": {},
   "outputs": [
    {
     "name": "stdout",
     "output_type": "stream",
     "text": [
      "Indexed 24987 images with valid categories\n"
     ]
    }
   ],
   "source": [
    "# Load annotated images in the following categories\n",
    "ALLOW_ALL = True\n",
    "ALLOWED_CATEGORIES = [\"bicycling\", \"running\", \"walking\"]\n",
    "#ALLOWED_JOINTS = [1, 4, 9, 12, 13] # r knee, l knee, head, r shoulder, l shoulder\n",
    "ALLOWED_JOINTS= [9]\n",
    "\n",
    "\n",
    "valid_imgs = []\n",
    "for i in range(len(annotations[\"act\"])):\n",
    "    if ALLOW_ALL or annotations[\"act\"][i][\"cat_name\"] in ALLOWED_CATEGORIES:\n",
    "        valid_imgs.append(i)\n",
    "print(f\"Indexed {len(valid_imgs)} images with valid categories\")"
   ]
  },
  {
   "cell_type": "code",
   "execution_count": 6,
   "metadata": {},
   "outputs": [
    {
     "name": "stdout",
     "output_type": "stream",
     "text": [
      "Indexed 11398 images with valid annotations\n"
     ]
    }
   ],
   "source": [
    "# Parse it to only images with a single person visible\n",
    "import numpy as np\n",
    "\n",
    "annorect_imgs = []\n",
    "\n",
    "#for i in range(len(valid_imgs)):\n",
    "i = 0\n",
    "while len(annorect_imgs) < 512:\n",
    "    i_img = valid_imgs[i]\n",
    "    annolist = annotations[\"annolist\"][i_img]\n",
    "    annorects = annolist[\"annorect\"]\n",
    "    if isinstance(annorects, dict): # Only one annorect (one person)\n",
    "        if \"annopoints\" in annorects.keys():\n",
    "            point = annorects[\"annopoints\"][\"point\"]\n",
    "            # Check that every joint we care about is annotated]\n",
    "            all_present = True\n",
    "            for j in ALLOWED_JOINTS:\n",
    "                all_present &= j in [p[\"id\"] for p in point]\n",
    "            if all_present:\n",
    "                joints = []\n",
    "                for j in ALLOWED_JOINTS:\n",
    "                    joints.append([(p[\"x\"], p[\"y\"]) for p in point if p[\"id\"] == j][0])\n",
    "                annorect_imgs.append({\"id\": i_img, \"joints\": np.array(joints)})\n",
    "    i += 1\n",
    "\n",
    "print(f\"Indexed {len(annorect_imgs)} images with valid annotations\")"
   ]
  },
  {
   "cell_type": "code",
   "execution_count": 7,
   "metadata": {},
   "outputs": [
    {
     "name": "stdout",
     "output_type": "stream",
     "text": [
      ".."
     ]
    },
    {
     "ename": "KeyboardInterrupt",
     "evalue": "",
     "output_type": "error",
     "traceback": [
      "\u001b[0;31m---------------------------------------------------------------------------\u001b[0m",
      "\u001b[0;31mKeyboardInterrupt\u001b[0m                         Traceback (most recent call last)",
      "Cell \u001b[0;32mIn[7], line 22\u001b[0m\n\u001b[1;32m     17\u001b[0m     \u001b[39mif\u001b[39;00m img \u001b[39mis\u001b[39;00m \u001b[39mnot\u001b[39;00m \u001b[39mNone\u001b[39;00m:\n\u001b[1;32m     18\u001b[0m         height, width, depth \u001b[39m=\u001b[39m img\u001b[39m.\u001b[39mshape\n\u001b[1;32m     19\u001b[0m         images\u001b[39m.\u001b[39mappend(\n\u001b[1;32m     20\u001b[0m                 {\n\u001b[1;32m     21\u001b[0m                     \u001b[39m\"\u001b[39m\u001b[39mid\u001b[39m\u001b[39m\"\u001b[39m: annorect_imgs[i][\u001b[39m\"\u001b[39m\u001b[39mid\u001b[39m\u001b[39m\"\u001b[39m],\n\u001b[0;32m---> 22\u001b[0m                     \u001b[39m\"\u001b[39m\u001b[39mimage\u001b[39m\u001b[39m\"\u001b[39m: resize(cv2\u001b[39m.\u001b[39;49mcvtColor(img, cv2\u001b[39m.\u001b[39;49mCOLOR_BGR2RGB), (HEIGHT, WIDTH)),\n\u001b[1;32m     23\u001b[0m                     \u001b[39m\"\u001b[39m\u001b[39mjoints\u001b[39m\u001b[39m\"\u001b[39m: [(x \u001b[39m/\u001b[39m width, y \u001b[39m/\u001b[39m height) \u001b[39mfor\u001b[39;00m (x, y) \u001b[39min\u001b[39;00m annorect_imgs[i][\u001b[39m\"\u001b[39m\u001b[39mjoints\u001b[39m\u001b[39m\"\u001b[39m]]\n\u001b[1;32m     24\u001b[0m                 }\n\u001b[1;32m     25\u001b[0m             )\n\u001b[1;32m     26\u001b[0m \u001b[39mprint\u001b[39m(\u001b[39m\"\u001b[39m\u001b[39mDone\u001b[39m\u001b[39m\"\u001b[39m)\n",
      "File \u001b[0;32m~/miniconda3/envs/tf/lib/python3.9/site-packages/skimage/transform/_warps.py:181\u001b[0m, in \u001b[0;36mresize\u001b[0;34m(image, output_shape, order, mode, cval, clip, preserve_range, anti_aliasing, anti_aliasing_sigma)\u001b[0m\n\u001b[1;32m    178\u001b[0m         \u001b[39melif\u001b[39;00m np\u001b[39m.\u001b[39many((anti_aliasing_sigma \u001b[39m>\u001b[39m \u001b[39m0\u001b[39m) \u001b[39m&\u001b[39m (factors \u001b[39m<\u001b[39m\u001b[39m=\u001b[39m \u001b[39m1\u001b[39m)):\n\u001b[1;32m    179\u001b[0m             warn(\u001b[39m\"\u001b[39m\u001b[39mAnti-aliasing standard deviation greater than zero but \u001b[39m\u001b[39m\"\u001b[39m\n\u001b[1;32m    180\u001b[0m                  \u001b[39m\"\u001b[39m\u001b[39mnot down-sampling along all axes\u001b[39m\u001b[39m\"\u001b[39m)\n\u001b[0;32m--> 181\u001b[0m     image \u001b[39m=\u001b[39m ndi\u001b[39m.\u001b[39;49mgaussian_filter(image, anti_aliasing_sigma,\n\u001b[1;32m    182\u001b[0m                                 cval\u001b[39m=\u001b[39;49mcval, mode\u001b[39m=\u001b[39;49mndi_mode)\n\u001b[1;32m    184\u001b[0m \u001b[39mif\u001b[39;00m NumpyVersion(scipy\u001b[39m.\u001b[39m__version__) \u001b[39m>\u001b[39m\u001b[39m=\u001b[39m \u001b[39m'\u001b[39m\u001b[39m1.6.0\u001b[39m\u001b[39m'\u001b[39m:\n\u001b[1;32m    185\u001b[0m     \u001b[39m# The grid_mode kwarg was introduced in SciPy 1.6.0\u001b[39;00m\n\u001b[1;32m    186\u001b[0m     zoom_factors \u001b[39m=\u001b[39m [\u001b[39m1\u001b[39m \u001b[39m/\u001b[39m f \u001b[39mfor\u001b[39;00m f \u001b[39min\u001b[39;00m factors]\n",
      "File \u001b[0;32m~/miniconda3/envs/tf/lib/python3.9/site-packages/scipy/ndimage/_filters.py:342\u001b[0m, in \u001b[0;36mgaussian_filter\u001b[0;34m(input, sigma, order, output, mode, cval, truncate)\u001b[0m\n\u001b[1;32m    340\u001b[0m \u001b[39mif\u001b[39;00m \u001b[39mlen\u001b[39m(axes) \u001b[39m>\u001b[39m \u001b[39m0\u001b[39m:\n\u001b[1;32m    341\u001b[0m     \u001b[39mfor\u001b[39;00m axis, sigma, order, mode \u001b[39min\u001b[39;00m axes:\n\u001b[0;32m--> 342\u001b[0m         gaussian_filter1d(\u001b[39minput\u001b[39;49m, sigma, axis, order, output,\n\u001b[1;32m    343\u001b[0m                           mode, cval, truncate)\n\u001b[1;32m    344\u001b[0m         \u001b[39minput\u001b[39m \u001b[39m=\u001b[39m output\n\u001b[1;32m    345\u001b[0m \u001b[39melse\u001b[39;00m:\n",
      "File \u001b[0;32m~/miniconda3/envs/tf/lib/python3.9/site-packages/scipy/ndimage/_filters.py:261\u001b[0m, in \u001b[0;36mgaussian_filter1d\u001b[0;34m(input, sigma, axis, order, output, mode, cval, truncate)\u001b[0m\n\u001b[1;32m    259\u001b[0m \u001b[39m# Since we are calling correlate, not convolve, revert the kernel\u001b[39;00m\n\u001b[1;32m    260\u001b[0m weights \u001b[39m=\u001b[39m _gaussian_kernel1d(sigma, order, lw)[::\u001b[39m-\u001b[39m\u001b[39m1\u001b[39m]\n\u001b[0;32m--> 261\u001b[0m \u001b[39mreturn\u001b[39;00m correlate1d(\u001b[39minput\u001b[39;49m, weights, axis, output, mode, cval, \u001b[39m0\u001b[39;49m)\n",
      "File \u001b[0;32m~/miniconda3/envs/tf/lib/python3.9/site-packages/scipy/ndimage/_filters.py:133\u001b[0m, in \u001b[0;36mcorrelate1d\u001b[0;34m(input, weights, axis, output, mode, cval, origin)\u001b[0m\n\u001b[1;32m    129\u001b[0m     \u001b[39mraise\u001b[39;00m \u001b[39mValueError\u001b[39;00m(\u001b[39m'\u001b[39m\u001b[39mInvalid origin; origin must satisfy \u001b[39m\u001b[39m'\u001b[39m\n\u001b[1;32m    130\u001b[0m                      \u001b[39m'\u001b[39m\u001b[39m-(len(weights) // 2) <= origin <= \u001b[39m\u001b[39m'\u001b[39m\n\u001b[1;32m    131\u001b[0m                      \u001b[39m'\u001b[39m\u001b[39m(len(weights)-1) // 2\u001b[39m\u001b[39m'\u001b[39m)\n\u001b[1;32m    132\u001b[0m mode \u001b[39m=\u001b[39m _ni_support\u001b[39m.\u001b[39m_extend_mode_to_code(mode)\n\u001b[0;32m--> 133\u001b[0m _nd_image\u001b[39m.\u001b[39;49mcorrelate1d(\u001b[39minput\u001b[39;49m, weights, axis, output, mode, cval,\n\u001b[1;32m    134\u001b[0m                       origin)\n\u001b[1;32m    135\u001b[0m \u001b[39mreturn\u001b[39;00m output\n",
      "\u001b[0;31mKeyboardInterrupt\u001b[0m: "
     ]
    }
   ],
   "source": [
    "# Load the images from disk\n",
    "import cv2\n",
    "from skimage.transform import resize\n",
    "from tqdm.auto import tqdm\n",
    "HEIGHT = 256\n",
    "WIDTH = 256\n",
    "\n",
    "images = []\n",
    "\n",
    "for i in range(len(annorect_imgs)):\n",
    "    if i % 100 == 0:\n",
    "        print('.', end=\"\")\n",
    "#for i in tqdm(range(len(annorect_imgs))):\n",
    "    image_name = annotations[\"annolist\"][annorect_imgs[i][\"id\"]][\"image\"][\"name\"]\n",
    "    real_path = (Path().resolve() / \"../pose_data/images/\" / image_name).resolve()\n",
    "    img = cv2.imread(real_path.as_posix())\n",
    "    if img is not None:\n",
    "        height, width, depth = img.shape\n",
    "        images.append(\n",
    "                {\n",
    "                    \"id\": annorect_imgs[i][\"id\"],\n",
    "                    \"image\": resize(cv2.cvtColor(img, cv2.COLOR_BGR2RGB), (HEIGHT, WIDTH)),\n",
    "                    \"joints\": [(x / width, y / height) for (x, y) in annorect_imgs[i][\"joints\"]]\n",
    "                }\n",
    "            )\n",
    "print(\"Done\")\n"
   ]
  },
  {
   "cell_type": "code",
   "execution_count": null,
   "metadata": {},
   "outputs": [],
   "source": [
    "# Show a image from our dataset with the annotations\n",
    "import matplotlib.pyplot as plt\n",
    "\n",
    "def show_image(img, points, prediction = None):\n",
    "    fig, ax = plt.subplots()\n",
    "    ax.imshow(img)\n",
    "\n",
    "    height, width, depth = img.shape\n",
    "\n",
    "    x = [i[0] * width for i in points]\n",
    "    y = [i[1] * height for i in points]\n",
    "    plt.plot(x, y, \"go\")\n",
    "    if prediction is not None:\n",
    "        x_pred = [i[0] * width for i in prediction]\n",
    "        y_pred = [i[1] * height for i in prediction]\n",
    "        plt.plot(x_pred, y_pred, \"ro\")\n",
    "    plt.show()\n",
    "    \n",
    "idx = np.random.randint(0, len(images))\n",
    "show_image(images[idx][\"image\"], images[idx][\"joints\"])"
   ]
  },
  {
   "cell_type": "code",
   "execution_count": null,
   "metadata": {},
   "outputs": [],
   "source": [
    "from tensorflow import keras\n",
    "from keras import layers\n",
    "\n",
    "REG_STRENGTH = 0.01\n",
    "\n",
    "inputs = layers.Input(shape=(HEIGHT, WIDTH, 3))\n",
    "\n",
    "head = layers.Conv2D(filters=32, kernel_size=3, padding=\"same\", activation=\"relu\", kernel_regularizer=keras.regularizers.L2(REG_STRENGTH), bias_regularizer=keras.regularizers.L2(REG_STRENGTH))(inputs)\n",
    "head = layers.MaxPool2D(pool_size=2, strides=2)(head)\n",
    "head = layers.Conv2D(filters=32, kernel_size=3, padding=\"same\", activation=\"relu\", kernel_regularizer=keras.regularizers.L2(REG_STRENGTH), bias_regularizer=keras.regularizers.L2(REG_STRENGTH))(head)\n",
    "head = layers.MaxPool2D(pool_size=2, strides=2)(head)\n",
    "head = layers.Conv2D(filters=32, kernel_size=2, padding=\"same\", activation=\"relu\", kernel_regularizer=keras.regularizers.L2(REG_STRENGTH), bias_regularizer=keras.regularizers.L2(REG_STRENGTH))(head)\n",
    "head = layers.MaxPool2D(pool_size=2, strides=2)(head)\n",
    "head = layers.GlobalMaxPool2D()(head)\n",
    "head = layers.Dense(32, activation=\"relu\", kernel_regularizer=keras.regularizers.L2(REG_STRENGTH), bias_regularizer=keras.regularizers.L2(REG_STRENGTH))(head)\n",
    "head = layers.Dense(16, activation=\"relu\", kernel_regularizer=keras.regularizers.L2(REG_STRENGTH), bias_regularizer=keras.regularizers.L2(REG_STRENGTH))(head)\n",
    "\n",
    "outputs = layers.Dense(2, activation=\"sigmoid\", kernel_regularizer=keras.regularizers.L2(REG_STRENGTH), bias_regularizer=keras.regularizers.L2(REG_STRENGTH))(head)\n",
    "\n",
    "model = keras.Model(inputs=inputs, outputs=outputs)\n",
    "\n",
    "model.summary()"
   ]
  },
  {
   "cell_type": "code",
   "execution_count": null,
   "metadata": {},
   "outputs": [],
   "source": [
    "# Split the test data into train/test splits\n",
    "\n",
    "x = [i[\"image\"] for i in images]\n",
    "y = [i[\"joints\"] for i in images]\n",
    "\n",
    "TRAIN_SIZE = 0.75\n",
    "\n",
    "# TODO: Randomize selection\n",
    "idx = int(np.floor(TRAIN_SIZE * len(x)))\n",
    "y_train = np.array(y[:idx])\n",
    "y_test = np.array(y[idx:])\n",
    "X_train = np.array(x[:idx])\n",
    "X_test = np.array(x[idx:])\n",
    "print(\"Done\")"
   ]
  },
  {
   "cell_type": "code",
   "execution_count": null,
   "metadata": {},
   "outputs": [],
   "source": [
    "print(X_train.shape)\n",
    "print(y_train.shape)"
   ]
  },
  {
   "cell_type": "code",
   "execution_count": null,
   "metadata": {},
   "outputs": [],
   "source": [
    "# Train the model\n",
    "model.compile(optimizer=\"adam\", loss=keras.losses.MeanSquaredError(), metrics=[\"acc\"])\n",
    "model.fit(X_train, y_train, batch_size=64, epochs=1, verbose=2)"
   ]
  },
  {
   "cell_type": "code",
   "execution_count": null,
   "metadata": {},
   "outputs": [],
   "source": [
    "# Test\n",
    "test_scores = model.evaluate(X_test, y_test)\n",
    "print(f\"Test loss: {test_scores[0]}\")\n",
    "print(f\"Test accuracy: {test_scores[1]}\")"
   ]
  },
  {
   "cell_type": "code",
   "execution_count": null,
   "metadata": {},
   "outputs": [],
   "source": [
    "# Visualize a test point\n",
    "idx = np.random.randint(0, len(X_test))\n",
    "img = X_test[idx]\n",
    "prediction = model(np.expand_dims(img, axis=0))\n",
    "print(y_test[idx])\n",
    "print(prediction)\n",
    "show_image(img, y_test[idx], prediction)"
   ]
  }
 ],
 "metadata": {
  "kernelspec": {
   "display_name": "tf",
   "language": "python",
   "name": "python3"
  },
  "language_info": {
   "codemirror_mode": {
    "name": "ipython",
    "version": 3
   },
   "file_extension": ".py",
   "mimetype": "text/x-python",
   "name": "python",
   "nbconvert_exporter": "python",
   "pygments_lexer": "ipython3",
   "version": "3.9.15"
  },
  "vscode": {
   "interpreter": {
    "hash": "73f888adf942a590b4bf3293d40c502e8c1807e2f8a4eb0eaa78ea6bd5e9c904"
   }
  }
 },
 "nbformat": 4,
 "nbformat_minor": 2
}
